{
 "cells": [
  {
   "cell_type": "markdown",
   "id": "12381db6",
   "metadata": {},
   "source": [
    "A set is a unique collection of objects in Python. You can denote a set with a pair of curly brackets {}. Python will automatically remove duplicate items"
   ]
  },
  {
   "cell_type": "code",
   "execution_count": 1,
   "id": "b76fcf37",
   "metadata": {},
   "outputs": [
    {
     "data": {
      "text/plain": [
       "{'R&B', 'disco', 'hard rock', 'pop', 'rock', 'soul'}"
      ]
     },
     "execution_count": 1,
     "metadata": {},
     "output_type": "execute_result"
    }
   ],
   "source": [
    "set1 = {\"pop\", \"rock\", \"soul\", \"hard rock\", \"rock\", \"R&B\", \"rock\", \"disco\"}\n",
    "set1"
   ]
  },
  {
   "cell_type": "code",
   "execution_count": 2,
   "id": "c1e5f7f3",
   "metadata": {},
   "outputs": [
    {
     "data": {
      "text/plain": [
       "{'A', 'B', 'C'}"
      ]
     },
     "execution_count": 2,
     "metadata": {},
     "output_type": "execute_result"
    }
   ],
   "source": [
    "set(['A','B','C','A','B','C']) #Cast list to a set"
   ]
  },
  {
   "cell_type": "code",
   "execution_count": 3,
   "id": "6f24cd2a",
   "metadata": {},
   "outputs": [
    {
     "data": {
      "text/plain": [
       "{'00:42:19',\n",
       " 10.0,\n",
       " 1982,\n",
       " '30-Nov-82',\n",
       " 46.0,\n",
       " 65,\n",
       " 'Michael Jackson',\n",
       " None,\n",
       " 'Pop, Rock, R&B',\n",
       " 'Thriller'}"
      ]
     },
     "execution_count": 3,
     "metadata": {},
     "output_type": "execute_result"
    }
   ],
   "source": [
    "# Convert list to set\n",
    "\n",
    "album_list = [ \"Michael Jackson\", \"Thriller\", 1982, \"00:42:19\", \\\n",
    "              \"Pop, Rock, R&B\", 46.0, 65, \"30-Nov-82\", None, 10.0]\n",
    "album_set = set(album_list)             \n",
    "album_set"
   ]
  },
  {
   "cell_type": "code",
   "execution_count": 4,
   "id": "de7c339f",
   "metadata": {},
   "outputs": [
    {
     "data": {
      "text/plain": [
       "{'AC/DC', 'Back in Black', 'Thriller'}"
      ]
     },
     "execution_count": 4,
     "metadata": {},
     "output_type": "execute_result"
    }
   ],
   "source": [
    "A = set([\"Thriller\", \"Back in Black\", \"AC/DC\"])\n",
    "A"
   ]
  },
  {
   "cell_type": "code",
   "execution_count": 5,
   "id": "a2ee2bb1",
   "metadata": {},
   "outputs": [
    {
     "data": {
      "text/plain": [
       "{'R&B',\n",
       " 'disco',\n",
       " 'folk rock',\n",
       " 'hard rock',\n",
       " 'pop',\n",
       " 'progressive rock',\n",
       " 'rock',\n",
       " 'soft rock',\n",
       " 'soul'}"
      ]
     },
     "execution_count": 5,
     "metadata": {},
     "output_type": "execute_result"
    }
   ],
   "source": [
    "# Convert list to set\n",
    "\n",
    "music_genres = set([\"pop\", \"pop\", \"rock\", \"folk rock\", \"hard rock\", \"soul\", \\\n",
    "                    \"progressive rock\", \"soft rock\", \"R&B\", \"disco\"])\n",
    "music_genres"
   ]
  },
  {
   "cell_type": "code",
   "execution_count": 6,
   "id": "e485032b",
   "metadata": {},
   "outputs": [
    {
     "data": {
      "text/plain": [
       "{'AC/DC', 'Back in Black', 'NSYNC', 'Thriller'}"
      ]
     },
     "execution_count": 6,
     "metadata": {},
     "output_type": "execute_result"
    }
   ],
   "source": [
    "# Add element to set\n",
    "\n",
    "A.add(\"NSYNC\")\n",
    "A"
   ]
  },
  {
   "cell_type": "code",
   "execution_count": 7,
   "id": "9ffe5f76",
   "metadata": {},
   "outputs": [
    {
     "data": {
      "text/plain": [
       "{'AC/DC', 'Back in Black', 'NSYNC', 'Thriller'}"
      ]
     },
     "execution_count": 7,
     "metadata": {},
     "output_type": "execute_result"
    }
   ],
   "source": [
    "# Try to add duplicate element to the set\n",
    "\n",
    "A.add(\"NSYNC\")\n",
    "A"
   ]
  },
  {
   "cell_type": "markdown",
   "id": "451a24fe",
   "metadata": {},
   "source": [
    "If we add the same element twice, nothing will happen as there can be no duplicates in a set"
   ]
  },
  {
   "cell_type": "code",
   "execution_count": 8,
   "id": "f34ccbb2",
   "metadata": {},
   "outputs": [
    {
     "data": {
      "text/plain": [
       "{'AC/DC', 'Back in Black', 'Thriller'}"
      ]
     },
     "execution_count": 8,
     "metadata": {},
     "output_type": "execute_result"
    }
   ],
   "source": [
    "# Remove the element from set\n",
    "\n",
    "A.remove(\"NSYNC\")\n",
    "A"
   ]
  },
  {
   "cell_type": "code",
   "execution_count": 9,
   "id": "5087a8b6",
   "metadata": {},
   "outputs": [
    {
     "data": {
      "text/plain": [
       "True"
      ]
     },
     "execution_count": 9,
     "metadata": {},
     "output_type": "execute_result"
    }
   ],
   "source": [
    "# Verify if the element is in the set\n",
    "# We can verify if an element is in the set using the in command\n",
    "\n",
    "\"AC/DC\" in A"
   ]
  },
  {
   "cell_type": "markdown",
   "id": "ff389332",
   "metadata": {},
   "source": [
    "Sets Logic Operations"
   ]
  },
  {
   "cell_type": "code",
   "execution_count": 10,
   "id": "15d3d6de",
   "metadata": {},
   "outputs": [],
   "source": [
    "album_set1 = set([\"Thriller\", 'AC/DC', 'Back in Black'])\n",
    "album_set2 = set([ \"AC/DC\", \"Back in Black\", \"The Dark Side of the Moon\"])"
   ]
  },
  {
   "cell_type": "code",
   "execution_count": 11,
   "id": "7631a0e5",
   "metadata": {},
   "outputs": [
    {
     "data": {
      "text/plain": [
       "({'AC/DC', 'Back in Black', 'Thriller'},\n",
       " {'AC/DC', 'Back in Black', 'The Dark Side of the Moon'})"
      ]
     },
     "execution_count": 11,
     "metadata": {},
     "output_type": "execute_result"
    }
   ],
   "source": [
    "\n",
    "\n",
    "album_set1, album_set2"
   ]
  },
  {
   "cell_type": "code",
   "execution_count": 12,
   "id": "ca7bb172",
   "metadata": {},
   "outputs": [
    {
     "data": {
      "text/plain": [
       "{'AC/DC', 'Back in Black'}"
      ]
     },
     "execution_count": 12,
     "metadata": {},
     "output_type": "execute_result"
    }
   ],
   "source": [
    "# You can find the intersect of two sets as follow using &\n",
    "\n",
    "intersection = album_set1 & album_set2\n",
    "intersection"
   ]
  },
  {
   "cell_type": "markdown",
   "id": "b212957c",
   "metadata": {},
   "source": [
    "You can find all the elements that are only contained in album_set1 using the difference method"
   ]
  },
  {
   "cell_type": "code",
   "execution_count": 13,
   "id": "26732133",
   "metadata": {},
   "outputs": [
    {
     "data": {
      "text/plain": [
       "{'Thriller'}"
      ]
     },
     "execution_count": 13,
     "metadata": {},
     "output_type": "execute_result"
    }
   ],
   "source": [
    "# Find the difference in set1 but not set2\n",
    "\n",
    "album_set1.difference(album_set2) "
   ]
  },
  {
   "cell_type": "markdown",
   "id": "c17cd6eb",
   "metadata": {},
   "source": [
    "You only need to consider elements in album_set1; all the elements in album_set2, including the intersection, are not included.The elements in album_set2 but not in album_set1 is given by"
   ]
  },
  {
   "cell_type": "code",
   "execution_count": 14,
   "id": "665f59cb",
   "metadata": {},
   "outputs": [
    {
     "data": {
      "text/plain": [
       "{'The Dark Side of the Moon'}"
      ]
     },
     "execution_count": 14,
     "metadata": {},
     "output_type": "execute_result"
    }
   ],
   "source": [
    "album_set2.difference(album_set1) "
   ]
  },
  {
   "cell_type": "markdown",
   "id": "87566037",
   "metadata": {},
   "source": [
    "You can also find the intersection of album_list1 and album_list2, using the intersection method:"
   ]
  },
  {
   "cell_type": "code",
   "execution_count": 15,
   "id": "1d1f8eb2",
   "metadata": {},
   "outputs": [
    {
     "data": {
      "text/plain": [
       "{'AC/DC', 'Back in Black'}"
      ]
     },
     "execution_count": 15,
     "metadata": {},
     "output_type": "execute_result"
    }
   ],
   "source": [
    "album_set1.intersection(album_set2) "
   ]
  },
  {
   "cell_type": "code",
   "execution_count": 16,
   "id": "d75c51b3",
   "metadata": {},
   "outputs": [
    {
     "data": {
      "text/plain": [
       "{'AC/DC', 'Back in Black', 'The Dark Side of the Moon', 'Thriller'}"
      ]
     },
     "execution_count": 16,
     "metadata": {},
     "output_type": "execute_result"
    }
   ],
   "source": [
    "# Find the union of two sets\n",
    "\n",
    "album_set1.union(album_set2)"
   ]
  },
  {
   "cell_type": "code",
   "execution_count": 17,
   "id": "56164b53",
   "metadata": {},
   "outputs": [
    {
     "data": {
      "text/plain": [
       "False"
      ]
     },
     "execution_count": 17,
     "metadata": {},
     "output_type": "execute_result"
    }
   ],
   "source": [
    "# Check if superset\n",
    "\n",
    "set(album_set1).issuperset(album_set2)"
   ]
  },
  {
   "cell_type": "code",
   "execution_count": 19,
   "id": "87e40ae3",
   "metadata": {},
   "outputs": [
    {
     "data": {
      "text/plain": [
       "True"
      ]
     },
     "execution_count": 19,
     "metadata": {},
     "output_type": "execute_result"
    }
   ],
   "source": [
    "# Check if subset\n",
    "\n",
    "set({\"Back in Black\", \"AC/DC\"}).issubset(album_set1)"
   ]
  },
  {
   "cell_type": "code",
   "execution_count": 20,
   "id": "fd98dae8",
   "metadata": {},
   "outputs": [
    {
     "data": {
      "text/plain": [
       "True"
      ]
     },
     "execution_count": 20,
     "metadata": {},
     "output_type": "execute_result"
    }
   ],
   "source": [
    "# Check if superset\n",
    "\n",
    "album_set1.issuperset({\"Back in Black\", \"AC/DC\"}) "
   ]
  },
  {
   "cell_type": "code",
   "execution_count": 21,
   "id": "67629429",
   "metadata": {},
   "outputs": [
    {
     "name": "stdout",
     "output_type": "stream",
     "text": [
      "the sum of A is: 6\n",
      "the sum of B is: 3\n"
     ]
    }
   ],
   "source": [
    "A = [1, 2, 2, 1]  \n",
    "B = set([1, 2, 2, 1])\n",
    "print(\"the sum of A is:\", sum(A))\n",
    "print(\"the sum of B is:\", sum(B))"
   ]
  },
  {
   "cell_type": "code",
   "execution_count": 22,
   "id": "2cfcf003",
   "metadata": {},
   "outputs": [
    {
     "data": {
      "text/plain": [
       "{'AC/DC', 'Back in Black', 'The Dark Side of the Moon', 'Thriller'}"
      ]
     },
     "execution_count": 22,
     "metadata": {},
     "output_type": "execute_result"
    }
   ],
   "source": [
    "album_set1 = set([\"Thriller\", 'AC/DC', 'Back in Black'])\n",
    "album_set2 = set([ \"AC/DC\", \"Back in Black\", \"The Dark Side of the Moon\"])\n",
    "album_set3 = album_set1.union(album_set2)\n",
    "album_set3"
   ]
  },
  {
   "cell_type": "code",
   "execution_count": 23,
   "id": "eae5c09d",
   "metadata": {},
   "outputs": [
    {
     "data": {
      "text/plain": [
       "True"
      ]
     },
     "execution_count": 23,
     "metadata": {},
     "output_type": "execute_result"
    }
   ],
   "source": [
    "album_set1.issubset(album_set3)"
   ]
  },
  {
   "cell_type": "code",
   "execution_count": null,
   "id": "6037485a",
   "metadata": {},
   "outputs": [],
   "source": []
  },
  {
   "cell_type": "markdown",
   "id": "a3e7ae29",
   "metadata": {},
   "source": [
    "A dictionary consists of keys and values. It is helpful to compare a dictionary to a list. Instead of being indexed numerically like a list, dictionaries have keys. These keys are the keys that are used to access values within a dictionary."
   ]
  },
  {
   "cell_type": "code",
   "execution_count": 24,
   "id": "9de16964",
   "metadata": {},
   "outputs": [
    {
     "data": {
      "text/plain": [
       "{'key1': 1,\n",
       " 'key2': '2',\n",
       " 'key3': [3, 3, 3],\n",
       " 'key4': (4, 4, 4),\n",
       " 'key5': 5,\n",
       " (0, 1): 6}"
      ]
     },
     "execution_count": 24,
     "metadata": {},
     "output_type": "execute_result"
    }
   ],
   "source": [
    "Dict = {\"key1\": 1, \"key2\": \"2\", \"key3\": [3, 3, 3], \"key4\": (4, 4, 4), ('key5'): 5, (0, 1): 6}\n",
    "Dict"
   ]
  },
  {
   "cell_type": "markdown",
   "id": "e622ff3c",
   "metadata": {},
   "source": [
    "\"key1\": 1- The key is a string \"key1\", and its corresponding value is the integer 1.\n",
    "\n",
    "\"key2\": \"2\" - The key is a string \"key2\", and its corresponding value is the string \"2\".\n",
    "\n",
    "\"key3\": [3, 3, 3] - The key is a string \"key3\", and its corresponding value is a list [3, 3, 3]. The list contains three elements, all of which are integer 3.\n",
    "\n",
    "\"key4\": (4, 4, 4) - The key is a string \"key4\", and its corresponding value is a tuple (4, 4, 4). The tuple contains three elements, all of which are the integer 4.\n",
    "\n",
    "('key5'): 5 - The key is a tuple ('key5',), and its corresponding value is the integer 5. Note that the key is enclosed in parentheses to indicate it as a tuple. In this case, the tuple contains a single element: the string \"key5\".\n",
    "\n",
    "(0, 1): 6 - The key is a tuple (0, 1), and its corresponding value is the integer 6. This tuple contains two elements: 0 and 1."
   ]
  },
  {
   "cell_type": "code",
   "execution_count": 25,
   "id": "9cfde8c5",
   "metadata": {},
   "outputs": [
    {
     "data": {
      "text/plain": [
       "1"
      ]
     },
     "execution_count": 25,
     "metadata": {},
     "output_type": "execute_result"
    }
   ],
   "source": [
    "# Access to the value by the key\n",
    "\n",
    "Dict[\"key1\"]"
   ]
  },
  {
   "cell_type": "code",
   "execution_count": 26,
   "id": "dc3ed2c7",
   "metadata": {},
   "outputs": [
    {
     "data": {
      "text/plain": [
       "6"
      ]
     },
     "execution_count": 26,
     "metadata": {},
     "output_type": "execute_result"
    }
   ],
   "source": [
    "# Access to the value by the key\n",
    "\n",
    "Dict[(0, 1)]"
   ]
  },
  {
   "cell_type": "markdown",
   "id": "3d296dff",
   "metadata": {},
   "source": [
    "Each key is separated from its value by a colon \":\". Commas separate the items, and the whole dictionary is enclosed in curly braces. An empty dictionary without any items is written with just two curly braces, like this \"{}\"."
   ]
  },
  {
   "cell_type": "code",
   "execution_count": 27,
   "id": "c1000996",
   "metadata": {},
   "outputs": [
    {
     "data": {
      "text/plain": [
       "{'Thriller': '1982',\n",
       " 'Back in Black': '1980',\n",
       " 'The Dark Side of the Moon': '1973',\n",
       " 'The Bodyguard': '1992',\n",
       " 'Bat Out of Hell': '1977',\n",
       " 'Their Greatest Hits (1971-1975)': '1976',\n",
       " 'Saturday Night Fever': '1977',\n",
       " 'Rumours': '1977'}"
      ]
     },
     "execution_count": 27,
     "metadata": {},
     "output_type": "execute_result"
    }
   ],
   "source": [
    "# Create a sample dictionary\n",
    "\n",
    "release_year_dict = {\"Thriller\": \"1982\", \"Back in Black\": \"1980\", \\\n",
    "                    \"The Dark Side of the Moon\": \"1973\", \"The Bodyguard\": \"1992\", \\\n",
    "                    \"Bat Out of Hell\": \"1977\", \"Their Greatest Hits (1971-1975)\": \"1976\", \\\n",
    "                    \"Saturday Night Fever\": \"1977\", \"Rumours\": \"1977\"}\n",
    "release_year_dict"
   ]
  },
  {
   "cell_type": "markdown",
   "id": "61b71e2c",
   "metadata": {},
   "source": [
    "like a list, a dictionary holds a sequence of elements. Each element is represented by a key and its corresponding value. Dictionaries are created with two curly braces containing keys and values separated by a colon. For every key, there can only be one single value, however, multiple keys can hold the same value. Keys can only be strings, numbers, or tuples, but values can be any data type.\n",
    "\n",
    "It is helpful to visualize the dictionary as a table, as in the following image. The first column represents the keys, the second column represents the values.\n",
    "\n"
   ]
  },
  {
   "cell_type": "code",
   "execution_count": 28,
   "id": "c6a7f93e",
   "metadata": {},
   "outputs": [
    {
     "data": {
      "text/plain": [
       "'1982'"
      ]
     },
     "execution_count": 28,
     "metadata": {},
     "output_type": "execute_result"
    }
   ],
   "source": [
    "# Get value by keys\n",
    "\n",
    "release_year_dict['Thriller'] "
   ]
  },
  {
   "cell_type": "code",
   "execution_count": 29,
   "id": "a84a3c8b",
   "metadata": {},
   "outputs": [
    {
     "data": {
      "text/plain": [
       "'1992'"
      ]
     },
     "execution_count": 29,
     "metadata": {},
     "output_type": "execute_result"
    }
   ],
   "source": [
    "# Get value by key\n",
    "\n",
    "release_year_dict['The Bodyguard'] "
   ]
  },
  {
   "cell_type": "code",
   "execution_count": 30,
   "id": "5b93d764",
   "metadata": {},
   "outputs": [
    {
     "data": {
      "text/plain": [
       "dict_keys(['Thriller', 'Back in Black', 'The Dark Side of the Moon', 'The Bodyguard', 'Bat Out of Hell', 'Their Greatest Hits (1971-1975)', 'Saturday Night Fever', 'Rumours'])"
      ]
     },
     "execution_count": 30,
     "metadata": {},
     "output_type": "execute_result"
    }
   ],
   "source": [
    "# Get all the keys in dictionary\n",
    "\n",
    "release_year_dict.keys() "
   ]
  },
  {
   "cell_type": "code",
   "execution_count": 31,
   "id": "feb23f27",
   "metadata": {},
   "outputs": [
    {
     "data": {
      "text/plain": [
       "dict_values(['1982', '1980', '1973', '1992', '1977', '1976', '1977', '1977'])"
      ]
     },
     "execution_count": 31,
     "metadata": {},
     "output_type": "execute_result"
    }
   ],
   "source": [
    "# Get all the values in dictionary\n",
    "\n",
    "release_year_dict.values() "
   ]
  },
  {
   "cell_type": "code",
   "execution_count": 32,
   "id": "b432d1e5",
   "metadata": {},
   "outputs": [
    {
     "data": {
      "text/plain": [
       "{'Thriller': '1982',\n",
       " 'Back in Black': '1980',\n",
       " 'The Dark Side of the Moon': '1973',\n",
       " 'The Bodyguard': '1992',\n",
       " 'Bat Out of Hell': '1977',\n",
       " 'Their Greatest Hits (1971-1975)': '1976',\n",
       " 'Saturday Night Fever': '1977',\n",
       " 'Rumours': '1977',\n",
       " 'Graduation': '2007'}"
      ]
     },
     "execution_count": 32,
     "metadata": {},
     "output_type": "execute_result"
    }
   ],
   "source": [
    "# Append value with key into dictionary\n",
    "\n",
    "release_year_dict['Graduation'] = '2007'\n",
    "release_year_dict"
   ]
  },
  {
   "cell_type": "code",
   "execution_count": 33,
   "id": "18daf868",
   "metadata": {},
   "outputs": [
    {
     "data": {
      "text/plain": [
       "{'Back in Black': '1980',\n",
       " 'The Dark Side of the Moon': '1973',\n",
       " 'The Bodyguard': '1992',\n",
       " 'Bat Out of Hell': '1977',\n",
       " 'Their Greatest Hits (1971-1975)': '1976',\n",
       " 'Saturday Night Fever': '1977',\n",
       " 'Rumours': '1977'}"
      ]
     },
     "execution_count": 33,
     "metadata": {},
     "output_type": "execute_result"
    }
   ],
   "source": [
    "# Delete entries by key\n",
    "\n",
    "del(release_year_dict['Thriller'])\n",
    "del(release_year_dict['Graduation'])\n",
    "release_year_dict"
   ]
  },
  {
   "cell_type": "code",
   "execution_count": 34,
   "id": "5b998d86",
   "metadata": {},
   "outputs": [
    {
     "data": {
      "text/plain": [
       "True"
      ]
     },
     "execution_count": 34,
     "metadata": {},
     "output_type": "execute_result"
    }
   ],
   "source": [
    "# Verify the key is in the dictionary\n",
    "\n",
    "'The Bodyguard' in release_year_dict"
   ]
  },
  {
   "cell_type": "code",
   "execution_count": 35,
   "id": "159c2b8d",
   "metadata": {},
   "outputs": [
    {
     "data": {
      "text/plain": [
       "dict_keys(['The Bodyguard', 'Saturday Night Fever'])"
      ]
     },
     "execution_count": 35,
     "metadata": {},
     "output_type": "execute_result"
    }
   ],
   "source": [
    "soundtrack_dic = {\"The Bodyguard\":\"1992\", \"Saturday Night Fever\":\"1977\"}\n",
    "soundtrack_dic.keys()"
   ]
  },
  {
   "cell_type": "code",
   "execution_count": 36,
   "id": "54511b05",
   "metadata": {},
   "outputs": [
    {
     "data": {
      "text/plain": [
       "dict_values(['1992', '1977'])"
      ]
     },
     "execution_count": 36,
     "metadata": {},
     "output_type": "execute_result"
    }
   ],
   "source": [
    "soundtrack_dic.values()"
   ]
  },
  {
   "cell_type": "code",
   "execution_count": 37,
   "id": "cfd828e5",
   "metadata": {},
   "outputs": [],
   "source": [
    "album_sales_dict = {\"The Bodyguard\":50, \"Back in Black\":50, \"Thriller\":65}"
   ]
  },
  {
   "cell_type": "code",
   "execution_count": 38,
   "id": "8af72157",
   "metadata": {},
   "outputs": [
    {
     "data": {
      "text/plain": [
       "65"
      ]
     },
     "execution_count": 38,
     "metadata": {},
     "output_type": "execute_result"
    }
   ],
   "source": [
    "album_sales_dict[\"Thriller\"]"
   ]
  },
  {
   "cell_type": "code",
   "execution_count": 42,
   "id": "c8f38075",
   "metadata": {},
   "outputs": [
    {
     "data": {
      "text/plain": [
       "dict_values([50, 50, 65])"
      ]
     },
     "execution_count": 42,
     "metadata": {},
     "output_type": "execute_result"
    }
   ],
   "source": [
    "\n",
    "album_sales_dict.values()"
   ]
  },
  {
   "cell_type": "code",
   "execution_count": 43,
   "id": "d70bcfd8",
   "metadata": {},
   "outputs": [
    {
     "data": {
      "text/plain": [
       "dict_keys(['The Bodyguard', 'Back in Black', 'Thriller'])"
      ]
     },
     "execution_count": 43,
     "metadata": {},
     "output_type": "execute_result"
    }
   ],
   "source": [
    "album_sales_dict.keys()"
   ]
  },
  {
   "cell_type": "code",
   "execution_count": null,
   "id": "f8040ae6",
   "metadata": {},
   "outputs": [],
   "source": []
  }
 ],
 "metadata": {
  "kernelspec": {
   "display_name": "Python 3 (ipykernel)",
   "language": "python",
   "name": "python3"
  },
  "language_info": {
   "codemirror_mode": {
    "name": "ipython",
    "version": 3
   },
   "file_extension": ".py",
   "mimetype": "text/x-python",
   "name": "python",
   "nbconvert_exporter": "python",
   "pygments_lexer": "ipython3",
   "version": "3.10.9"
  }
 },
 "nbformat": 4,
 "nbformat_minor": 5
}
