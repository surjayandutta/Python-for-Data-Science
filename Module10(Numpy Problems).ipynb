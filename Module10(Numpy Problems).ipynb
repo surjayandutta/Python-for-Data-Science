{
 "cells": [
  {
   "cell_type": "code",
   "execution_count": 3,
   "id": "bcaa926b",
   "metadata": {},
   "outputs": [],
   "source": [
    "import numpy as np\n",
    "def hoga_ki_nahi(arr1,arr2):\n",
    "  try:\n",
    "    arr1+arr2\n",
    "    return \"Hoga\"\n",
    "  except ValueError:\n",
    "    return \"Nahi Hoga\""
   ]
  },
  {
   "cell_type": "code",
   "execution_count": 4,
   "id": "23d15c27",
   "metadata": {},
   "outputs": [],
   "source": [
    "def hoga_ki_nahi(arr1,arr2):\n",
    "  return #\"Hoga\"/\"Nahi Hoga\""
   ]
  },
  {
   "cell_type": "code",
   "execution_count": 5,
   "id": "ec7885be",
   "metadata": {},
   "outputs": [],
   "source": [
    "# Test your function here\n",
    "def broadcast(ar1,ar2):\n",
    "    d1=np.ndim(ar1)\n",
    "    d2=np.ndim(ar2)\n",
    "    s1=np.shape(ar1)\n",
    "    s2=np.shape(ar2)\n",
    "    if s1==s2:\n",
    "        return \"Hogia\"\n",
    "    else:\n",
    "        for i in range(min(d1,d2)):\n",
    "            if s1[-1-i]!=s2[-1-i]:\n",
    "                if s1[-1-i]==1 or s2[-1-i]==1:\n",
    "                    continue\n",
    "                else:\n",
    "                    return \"Nahi hoga\"\n",
    "            else:\n",
    "                continue\n",
    "        return \"Hoiga\""
   ]
  },
  {
   "cell_type": "code",
   "execution_count": 6,
   "id": "867895eb",
   "metadata": {},
   "outputs": [
    {
     "name": "stdout",
     "output_type": "stream",
     "text": [
      "None\n",
      "Nahi hoga\n"
     ]
    }
   ],
   "source": [
    "y=np.arange(168).reshape(4,2,3,7)\n",
    "x=np.arange(6).reshape(2,3)\n",
    "\n",
    "print(hoga_ki_nahi(x,y))\n",
    "print(broadcast(x,y))\n"
   ]
  },
  {
   "cell_type": "code",
   "execution_count": 7,
   "id": "6caa9235",
   "metadata": {},
   "outputs": [
    {
     "data": {
      "text/plain": [
       "array([[ 0,  1,  2,  3,  4],\n",
       "       [ 5,  6,  7,  8,  9],\n",
       "       [10, 11, 12, 13, 14],\n",
       "       [15, 16, 17, 18, 19],\n",
       "       [20, 21, 22, 23, 24],\n",
       "       [25, 26, 27, 28, 29],\n",
       "       [30, 31, 32, 33, 34],\n",
       "       [35, 36, 37, 38, 39]])"
      ]
     },
     "execution_count": 7,
     "metadata": {},
     "output_type": "execute_result"
    }
   ],
   "source": [
    "arr1=np.arange(40).reshape(8,5)\n",
    "arr1"
   ]
  },
  {
   "cell_type": "code",
   "execution_count": 8,
   "id": "b2349e10",
   "metadata": {},
   "outputs": [
    {
     "data": {
      "text/plain": [
       "array([[9168, 2473, 7746, 7367, 8333],\n",
       "       [ 309, 7362, 9030, 2462, 2377]])"
      ]
     },
     "execution_count": 8,
     "metadata": {},
     "output_type": "execute_result"
    }
   ],
   "source": [
    "arr2=np.random.randint(low=1, high=10000, size=10).reshape(2,5)\n",
    "arr2"
   ]
  },
  {
   "cell_type": "code",
   "execution_count": 9,
   "id": "61bcc274",
   "metadata": {},
   "outputs": [
    {
     "data": {
      "text/plain": [
       "9.75"
      ]
     },
     "execution_count": 9,
     "metadata": {},
     "output_type": "execute_result"
    }
   ],
   "source": [
    "np.percentile(arr1,25)"
   ]
  },
  {
   "cell_type": "code",
   "execution_count": 10,
   "id": "cfb527b8",
   "metadata": {},
   "outputs": [
    {
     "data": {
      "text/plain": [
       "array([[ 0,  2,  4],\n",
       "       [ 5,  7,  9],\n",
       "       [10, 12, 14],\n",
       "       [15, 17, 19],\n",
       "       [20, 22, 24],\n",
       "       [25, 27, 29],\n",
       "       [30, 32, 34],\n",
       "       [35, 37, 39]])"
      ]
     },
     "execution_count": 10,
     "metadata": {},
     "output_type": "execute_result"
    }
   ],
   "source": [
    "q1=arr1[:,0::2]\n",
    "\n",
    "q1"
   ]
  },
  {
   "cell_type": "code",
   "execution_count": 11,
   "id": "5c4cc303",
   "metadata": {},
   "outputs": [
    {
     "data": {
      "text/plain": [
       "array([[ 0,  1,  2,  3,  4],\n",
       "       [ 5,  6,  7,  8,  9],\n",
       "       [10, 11, 12, 13, 14],\n",
       "       [15, 16, 17, 18, 19],\n",
       "       [20, 21, 22, 23, 24],\n",
       "       [25, 26, 27, 28, 29],\n",
       "       [30, 31, 32, 33, 34],\n",
       "       [35, 36, 37, 38, 39]])"
      ]
     },
     "execution_count": 11,
     "metadata": {},
     "output_type": "execute_result"
    }
   ],
   "source": [
    "arr1"
   ]
  },
  {
   "cell_type": "code",
   "execution_count": 12,
   "id": "2f3d574c",
   "metadata": {},
   "outputs": [
    {
     "data": {
      "text/plain": [
       "array([[ 0,  2,  4],\n",
       "       [15, 17, 19],\n",
       "       [30, 32, 34]])"
      ]
     },
     "execution_count": 12,
     "metadata": {},
     "output_type": "execute_result"
    }
   ],
   "source": [
    "# Q2. From arr1 fetch an array which would contain {0,2,4} {15,17,19} and {30,32,34} \n",
    "#ans2: \n",
    "# {0,2,4}-- 1st,3nd and 5th column, that is alternate column from 1st col.\n",
    "# {0,15,30}-- 1st, 4th and 6th row, that is gap of 2 from 1st row\n",
    "# combining both will give our result\n",
    "\n",
    "\n",
    "q2=arr1[::3,::2]\n",
    "q2"
   ]
  },
  {
   "cell_type": "code",
   "execution_count": 13,
   "id": "31c46ce7",
   "metadata": {},
   "outputs": [
    {
     "data": {
      "text/plain": [
       "array([[9952, 1965, 4771,  120, 3891],\n",
       "       [3165, 5640, 4177, 8980, 3661]])"
      ]
     },
     "execution_count": 13,
     "metadata": {},
     "output_type": "execute_result"
    }
   ],
   "source": [
    "arr2=np.random.randint(low=1, high=10000, size=10).reshape(2,5)\n",
    "arr2"
   ]
  },
  {
   "cell_type": "code",
   "execution_count": 14,
   "id": "426e3ccc",
   "metadata": {},
   "outputs": [
    {
     "data": {
      "text/plain": [
       "array([[1.        , 0.19744775, 0.47940113, 0.01205788, 0.39097669],\n",
       "       [0.31802653, 0.56672026, 0.41971463, 0.90233119, 0.36786576]])"
      ]
     },
     "execution_count": 14,
     "metadata": {},
     "output_type": "execute_result"
    }
   ],
   "source": [
    "max=arr2.max()\n",
    "min=arr2.min()\n",
    "narray=arr2/max\n",
    "narray"
   ]
  },
  {
   "cell_type": "code",
   "execution_count": 15,
   "id": "b10bbd42",
   "metadata": {},
   "outputs": [
    {
     "data": {
      "text/plain": [
       "array([[1.        , 0.18765256, 0.47304719, 0.        , 0.38354353],\n",
       "       [0.30970301, 0.56143206, 0.41263222, 0.90113914, 0.36015053]])"
      ]
     },
     "execution_count": 15,
     "metadata": {},
     "output_type": "execute_result"
    }
   ],
   "source": [
    "# method 2:- \n",
    "# Ans:- Excepted answer for \n",
    "# Formula as given in above example explanation that is-- Xnew=(Xold-Xmin)/(Xmax-Xmin)\n",
    "# Min-Max method--\n",
    "\n",
    "mmarray=(arr2-min)/(max-min)\n",
    "mmarray"
   ]
  },
  {
   "cell_type": "code",
   "execution_count": 16,
   "id": "44d3e8d6",
   "metadata": {},
   "outputs": [
    {
     "data": {
      "text/plain": [
       "array([[ 1.88596829, -0.94557213,  0.04920719, -1.59965904, -0.26276922],\n",
       "       [-0.52014976,  0.35728389, -0.16137689,  1.54137617, -0.34430851]])"
      ]
     },
     "execution_count": 16,
     "metadata": {},
     "output_type": "execute_result"
    }
   ],
   "source": [
    "# method 3(For normalisation):- Formula as given in above example explanation that is-- Xnew=(Xold-Mean)/(standard deviation)\n",
    "# Z - score Method or standard Method--\n",
    "\"\"\"This method is not considered for the above problen as this method is not used for normalise data in [0,1]\"\"\"\n",
    "\n",
    "mean=arr2.mean()\n",
    "std=arr2.std()\n",
    "zarray=(arr2-mean)/std\n",
    "zarray"
   ]
  },
  {
   "cell_type": "code",
   "execution_count": 17,
   "id": "57d0be6d",
   "metadata": {},
   "outputs": [
    {
     "name": "stdout",
     "output_type": "stream",
     "text": [
      "no values missing\n"
     ]
    }
   ],
   "source": [
    "# Q4. How would you check if your numpy array has some missing values?\n",
    "\n",
    "# Hint: Thoda research karo numpy me existing functions hai\n",
    "#Ans4 - Research kr rhe hain \n",
    "# There is a function \"np.isnan()\".. but having problenm in passing arguments here like below\n",
    "# \"TypeError: ufunc 'isnan' not supported for the input types, \n",
    "#           and the inputs could not be safely coerced to any supported types according to the casting rule ''safe''\"\n",
    "# Not as like isnan() but it check wether any dataa is missing or not\n",
    "\n",
    "\n",
    "def check(arr):\n",
    "    if np.nan in arr:\n",
    "        return print(\"missing values\")\n",
    "    else:\n",
    "        return print(\"no values missing\")\n",
    "check(narray)"
   ]
  },
  {
   "cell_type": "code",
   "execution_count": 18,
   "id": "0fdcea25",
   "metadata": {},
   "outputs": [
    {
     "name": "stdout",
     "output_type": "stream",
     "text": [
      "missing values\n"
     ]
    }
   ],
   "source": [
    "ar8=[1,2,np.nan,np.nan,90,88.0,90.0,np.nan]\n",
    "check(ar8)"
   ]
  },
  {
   "cell_type": "code",
   "execution_count": 19,
   "id": "b45573e5",
   "metadata": {},
   "outputs": [
    {
     "data": {
      "text/plain": [
       "array([False, False,  True,  True, False, False, False,  True])"
      ]
     },
     "execution_count": 19,
     "metadata": {},
     "output_type": "execute_result"
    }
   ],
   "source": [
    "# After research foud out this function return an boolean array, 'True' represents data is missing  \n",
    "\n",
    "np.isnan(ar8)"
   ]
  },
  {
   "cell_type": "code",
   "execution_count": 20,
   "id": "4103d65b",
   "metadata": {},
   "outputs": [
    {
     "data": {
      "text/plain": [
       "18"
      ]
     },
     "execution_count": 20,
     "metadata": {},
     "output_type": "execute_result"
    }
   ],
   "source": [
    "# Q5. Write a function which will accept 2 arguments.\n",
    "# First: A 1D numpy array arr\n",
    "# Second: An integer n {Please make sure n<=len(arr)}\n",
    "\n",
    "# Output: The output should be the nth largest item out of the array\n",
    "\n",
    "# Example1 : arr=(12,34,40,7,1,0) and n=3, the output should be 12\n",
    "# Example2 : arr=(12,34,40,7,1,0) and n=1, the output should be 40\n",
    "#ans5:\n",
    "#First sorted the array then return the last nth value of the array.\n",
    "\n",
    "def nthmax(arr,n):\n",
    "    if n<=len(arr):\n",
    "        arr.sort()\n",
    "        return arr[-n]\n",
    "    else:\n",
    "        raise IndexError('n should not exceed the length of the array {}, which is {}, \\n The value of n was: {}'.format(arr,len(arr),n))\n",
    "a1=np.array([10,18,11,45,78,32])\n",
    "nthmax(a1,4)"
   ]
  },
  {
   "cell_type": "code",
   "execution_count": 21,
   "id": "03d94fb5",
   "metadata": {},
   "outputs": [
    {
     "data": {
      "text/plain": [
       "12"
      ]
     },
     "execution_count": 21,
     "metadata": {},
     "output_type": "execute_result"
    }
   ],
   "source": [
    "#Test1:\n",
    "a2=np.array([12,34,40,7,1,0])\n",
    "nthmax(a2,3)"
   ]
  },
  {
   "cell_type": "code",
   "execution_count": 22,
   "id": "deb86e61",
   "metadata": {},
   "outputs": [
    {
     "data": {
      "text/plain": [
       "40"
      ]
     },
     "execution_count": 22,
     "metadata": {},
     "output_type": "execute_result"
    }
   ],
   "source": [
    "# Test2:\n",
    "a3=np.array([12,34,40,7,1,0])\n",
    "nthmax(a3,1)"
   ]
  },
  {
   "cell_type": "code",
   "execution_count": 23,
   "id": "65a968fd",
   "metadata": {},
   "outputs": [
    {
     "data": {
      "text/plain": [
       "array([[ 0,  1,  2,  3,  4],\n",
       "       [ 5,  6,  7,  8,  9],\n",
       "       [10, 11, 12, 13, 14],\n",
       "       [15, 16, 17, 18, 19]])"
      ]
     },
     "execution_count": 23,
     "metadata": {},
     "output_type": "execute_result"
    }
   ],
   "source": [
    "arr1=np.arange(20).reshape(4,5)\n",
    "arr1"
   ]
  },
  {
   "cell_type": "code",
   "execution_count": 24,
   "id": "4f77982c",
   "metadata": {},
   "outputs": [
    {
     "name": "stdout",
     "output_type": "stream",
     "text": [
      "Original array:\n",
      "[[ 0  1  2  3  4]\n",
      " [ 5  6  7  8  9]\n",
      " [10 11 12 13 14]\n",
      " [15 16 17 18 19]]\n",
      "\n",
      "After swapping arrays:\n",
      "[[ 3  1  2  0  4]\n",
      " [ 8  6  7  5  9]\n",
      " [13 11 12 10 14]\n",
      " [18 16 17 15 19]]\n"
     ]
    }
   ],
   "source": [
    "# Q1 Write a numpy code to swap col1([0,5,10,15]) with col4([3,8,13,18])\n",
    "# Hint----> Fancy Indexing\n",
    "import numpy as np\n",
    "arr1= np.arange(20).reshape(4,5)\n",
    "print(\"Original array:\")\n",
    "print(arr1)\n",
    "arr1[:,[0, 3]] = arr1[:,[3, 0]]\n",
    "print(\"\\nAfter swapping arrays:\")\n",
    "print(arr1)"
   ]
  },
  {
   "cell_type": "code",
   "execution_count": 25,
   "id": "366483a2",
   "metadata": {},
   "outputs": [
    {
     "name": "stdout",
     "output_type": "stream",
     "text": [
      "Original array:\n",
      "[[ 0  1  2  3  4]\n",
      " [ 5  6  7  8  9]\n",
      " [10 11 12 13 14]\n",
      " [15 16 17 18 19]]\n",
      "\n",
      "After swapping arrays:\n",
      "[[15 16 17 18 19]\n",
      " [ 5  6  7  8  9]\n",
      " [10 11 12 13 14]\n",
      " [ 0  1  2  3  4]]\n"
     ]
    }
   ],
   "source": [
    "# Q2 Write a numpy code to reverse the rows of arr1\n",
    "# The output should be [15, 16, 17, 18, 19] as first row and [ 0,  1,  2,  3,  4] as last row\n",
    "import numpy as np\n",
    "arr1= np.arange(20).reshape(4,5)\n",
    "print(\"Original array:\")\n",
    "print(arr1)\n",
    "arr1[[0,3],:] = arr1[[3,0],:]\n",
    "print(\"\\nAfter swapping arrays:\")\n",
    "print(arr1)"
   ]
  },
  {
   "cell_type": "code",
   "execution_count": 26,
   "id": "93d16a41",
   "metadata": {},
   "outputs": [
    {
     "data": {
      "text/plain": [
       "array([[ 1.,  2., nan],\n",
       "       [ 4.,  5.,  6.],\n",
       "       [nan, nan,  9.]])"
      ]
     },
     "execution_count": 26,
     "metadata": {},
     "output_type": "execute_result"
    }
   ],
   "source": [
    "arr2=np.array([[1,2,np.nan],[4,5,6],[np.nan,np.nan,9]])\n",
    "arr2"
   ]
  },
  {
   "cell_type": "code",
   "execution_count": 27,
   "id": "35a5c51a",
   "metadata": {},
   "outputs": [
    {
     "name": "stdout",
     "output_type": "stream",
     "text": [
      "[[1.  2.  4.5]\n",
      " [4.  5.  6. ]\n",
      " [4.5 4.5 9. ]]\n"
     ]
    }
   ],
   "source": [
    "# Q3 Write a code to replace all the nan(missing values) of arr2 with the mean of arr2\n",
    "import numpy as np\n",
    "arr2=np.array([[1,2,np.nan],[4,5,6],[np.nan,np.nan,9]])\n",
    "mean=arr2[np.isnan(arr2)!=True].mean()\n",
    "arr2[np.isnan(arr2)==True]=mean\n",
    "print(arr2)"
   ]
  },
  {
   "cell_type": "code",
   "execution_count": 28,
   "id": "31283eb0",
   "metadata": {},
   "outputs": [
    {
     "data": {
      "text/plain": [
       "array([[79, 75, 80, 23],\n",
       "       [39, 58, 35, 98],\n",
       "       [80, 93,  3, 82],\n",
       "       [28, 96, 77, 90],\n",
       "       [84, 65, 71, 97]])"
      ]
     },
     "execution_count": 28,
     "metadata": {},
     "output_type": "execute_result"
    }
   ],
   "source": [
    "arr3=np.random.randint(low=1,high=100,size=20).reshape(5,4)\n",
    "arr3"
   ]
  },
  {
   "cell_type": "code",
   "execution_count": 29,
   "id": "5ce68cc0",
   "metadata": {},
   "outputs": [
    {
     "data": {
      "text/plain": [
       "array([42, 27, 48, 96, 51, 30])"
      ]
     },
     "execution_count": 29,
     "metadata": {},
     "output_type": "execute_result"
    }
   ],
   "source": [
    "# Q4 Write a code which can fetch all items from arr3 which are either greater than 25 or a multiple of 3\n",
    "import numpy as np\n",
    "arr3=np.random.randint(low=1,high=100,size=20).reshape(5,4)\n",
    "arr3[(arr3>25) & (arr3%3==0)]"
   ]
  },
  {
   "cell_type": "code",
   "execution_count": 30,
   "id": "21b6e8c1",
   "metadata": {},
   "outputs": [
    {
     "name": "stdout",
     "output_type": "stream",
     "text": [
      "arr :  [81, 48, 60, 54, 81, 45, 93]\n",
      "50th percentile of arr :  60.0\n",
      "25th percentile of arr :  51.0\n",
      "10th percentile of arr :  46.8\n"
     ]
    }
   ],
   "source": [
    "# Q5 Write a code to find the 10th, 25th, 50th(median) percentile of arr3\n",
    "# Percentiles are a very important concept in Statistics. If you don't know about it refer the video below\n",
    "# https://www.youtube.com/watch?v=Snf6Wpn-L4c\n",
    "# Hint: to solve this function google np.percentile()\n",
    "import numpy as np\n",
    "arr = [81,48,60,54,81,45,93] \n",
    "print(\"arr : \", arr)  \n",
    "print(\"50th percentile of arr : \",  \n",
    "       np.percentile(arr, 50)) \n",
    "print(\"25th percentile of arr : \", \n",
    "       np.percentile(arr, 25)) \n",
    "print(\"10th percentile of arr : \", \n",
    "       np.percentile(arr, 10)) \n"
   ]
  },
  {
   "cell_type": "code",
   "execution_count": null,
   "id": "fd551d57",
   "metadata": {},
   "outputs": [],
   "source": []
  }
 ],
 "metadata": {
  "kernelspec": {
   "display_name": "Python 3 (ipykernel)",
   "language": "python",
   "name": "python3"
  },
  "language_info": {
   "codemirror_mode": {
    "name": "ipython",
    "version": 3
   },
   "file_extension": ".py",
   "mimetype": "text/x-python",
   "name": "python",
   "nbconvert_exporter": "python",
   "pygments_lexer": "ipython3",
   "version": "3.10.9"
  }
 },
 "nbformat": 4,
 "nbformat_minor": 5
}
